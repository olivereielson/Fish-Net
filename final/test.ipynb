{
 "cells": [
  {
   "cell_type": "code",
   "execution_count": 53,
   "outputs": [
    {
     "name": "stdout",
     "output_type": "stream",
     "text": [
      "338402566.0\n",
      "368037170.0\n",
      "367767060.0\n",
      "367722440.0\n",
      "367613470.0\n",
      "338399049.0\n",
      "338386000.0\n",
      "368091370.0\n",
      "367092940.0\n",
      "91800312.0\n",
      "91800534.0\n",
      "91800557.0\n",
      "91800425.0\n",
      "367177060.0\n",
      "366866750.0\n",
      "338144528.0\n",
      "338362611.0\n",
      "338438928.0\n",
      "368325670.0\n",
      "338486893.0\n",
      "338489737.0\n",
      "368321520.0\n",
      "338485667.0\n",
      "338448489.0\n",
      "367111210.0\n",
      "338489747.0\n",
      "338066383.0\n",
      "368128790.0\n",
      "338169001.0\n",
      "338482296.0\n",
      "338485786.0\n",
      "338350046.0\n",
      "338419562.0\n",
      "338475816.0\n",
      "368318450.0\n",
      "338371638.0\n",
      "338480232.0\n",
      "368280420.0\n",
      "368265580.0\n",
      "368114380.0\n",
      "367075540.0\n",
      "316003440.0\n",
      "338095648.0\n",
      "338312689.0\n",
      "338459234.0\n",
      "338412448.0\n",
      "368178890.0\n",
      "338334752.0\n",
      "338926089.0\n",
      "338413783.0\n",
      "338191082.0\n",
      "338394719.0\n"
     ]
    }
   ],
   "source": [
    "import pandas as pd\n",
    "import geopandas as gpd\n",
    "import matplotlib.pyplot as plt\n",
    "from geopy.distance import geodesic\n",
    "\n",
    "boats = [\n",
    "    'ERICA KNIGHT',\n",
    "    'STAR',\n",
    "    'STELLA MARIS',\n",
    "    'PROVIDER',\n",
    "    'PRIME RATE',\n",
    "    'HARVEST MOON',\n",
    "    'PROVIDER II',\n",
    "    'DOUBLE HEADER',\n",
    "    'RELENTLESS',\n",
    "    'ONWA33NT',\n",
    "    'F/V BLUE SEA',\n",
    "    'Prince Rupert, BC',\n",
    "    'PACER',\n",
    "    'ATLANTIC PEARL',\n",
    "    'DREAM WARRIOR',\n",
    "    'MISTE ROSE',\n",
    "    'SCOOTER',\n",
    "    'MARY ANNE',\n",
    "    'GREAT ESCAPE',\n",
    "    'OLD COOT',\n",
    "    'GARLIC KNOT',\n",
    "    'LOOSE CANNON',\n",
    "    'ANNA MARY',\n",
    "    'SWEET MISERY',\n",
    "    'NOAA GLORIA MICHELLE',\n",
    "    'GULF STREAM',\n",
    "    'PREY DRIVE',\n",
    "    'DISRUPTOR',\n",
    "    'STILL FISHING',\n",
    "    'ARGO',\n",
    "    'KARENB',\n",
    "    'ODONTOBLAST',\n",
    "    'FORTITUDE',\n",
    "    'GRATTITUDE',\n",
    "    'STORSKIP',\n",
    "    'EDWARD&JOSEPH',\n",
    "    'MARTHA ELIZABETH',\n",
    "    'nan',  # If you want to keep 'nan' as a string in the list\n",
    "    'PATRIARCH',\n",
    "    'MISS SHAUNA',\n",
    "    'AMANDA J I',\n",
    "    'INGRID ANN',\n",
    "    'FV SEA SPRITE',\n",
    "    'SALTY DOG',\n",
    "    'ALLISON AN LISA',\n",
    "    'JEANETTE T',\n",
    "    'HANA-LI',\n",
    "    '29RDC',\n",
    "    'BLACK EARL',\n",
    "    'TERNTO',\n",
    "    'HILLARY ANN',\n",
    "    'PASQUE'\n",
    "]\n",
    "\n",
    "\n",
    "\n",
    "df = pd.read_csv('all.csv')\n",
    "\n",
    "for boat_name in boats:\n",
    "    mmsi_numbers = df.loc[df['VesselName'] == boat_name, 'MMSI'].unique()\n",
    "    \n",
    "    if len(mmsi_numbers) > 0:\n",
    "        for mmsi in mmsi_numbers:\n",
    "            print(mmsi)\n",
    "   \n",
    "\n",
    "\n"
   ],
   "metadata": {
    "collapsed": false,
    "ExecuteTime": {
     "end_time": "2023-11-24T17:29:25.017977Z",
     "start_time": "2023-11-24T17:29:23.606424Z"
    }
   },
   "id": "1283817cd6114074"
  },
  {
   "cell_type": "code",
   "execution_count": 3,
   "outputs": [
    {
     "name": "stderr",
     "output_type": "stream",
     "text": [
      "/var/folders/1x/py74wzls2h9bvrkm9kzw0lpm0000gn/T/ipykernel_31770/2461017358.py:7: DtypeWarning: Columns (8) have mixed types. Specify dtype option on import or set low_memory=False.\n",
      "  df = pd.read_csv('/Users/olivereielson/Desktop/AIS_169939217446962396_1946-1700194098996.csv')\n"
     ]
    },
    {
     "name": "stdout",
     "output_type": "stream",
     "text": [
      "8626\n",
      "VesselName\n",
      "MISTER G            5929\n",
      "RELENTLESS          1149\n",
      "INTERCEPTOR          795\n",
      "VENGEANCE            139\n",
      "ALYSSA & ZACHARY     136\n",
      "NORTHSTAR 4          130\n",
      "MENEMSHA ROSE        104\n",
      "DAMARISCOTTA          88\n",
      "KAREN ANN             69\n",
      "FAITHFUL              42\n",
      "PAPAS GIRL            17\n",
      "SUSAN C                9\n",
      "MICHELE JEAN 2         6\n",
      "MISS SHAUNA            5\n",
      "LADY K                 5\n",
      "HELEN LOUISE           2\n",
      "PACER                  1\n",
      "Name: count, dtype: int64\n"
     ]
    }
   ],
   "source": [
    "import pandas as pd\n",
    "import geopandas as gpd\n",
    "import matplotlib.pyplot as plt\n",
    "from geopy.distance import geodesic\n",
    "\n",
    "# Load the CSV file\n",
    "df = pd.read_csv('/Users/olivereielson/Desktop/AIS_169939217446962396_1946-1700194098996.csv')\n",
    "\n",
    "# Filter rows where 'vesseltype' contains the word 'fishing'\n",
    "df = df[df['VesselType'] == 30]\n",
    "df = df[df['Length'] < 14]\n",
    "df = df[df['SOG'] < 5]\n",
    "\n",
    "# Create a GeoDataFrame from the filtered DataFrame\n",
    "gdf = gpd.GeoDataFrame(df, geometry=gpd.points_from_xy(df.LON, df.LAT))\n",
    "\n",
    "# Define the coordinates for Newport, RI\n",
    "newport_coords = (41.12807, -71.88187)  # Replace with the actual coordinates\n",
    "\n",
    "# Filter the data points within 50 miles of Newport, RI\n",
    "filtered_gdf = gdf[gdf.geometry.apply(lambda point: geodesic(newport_coords, (point.y, point.x)).miles <= 60)]\n",
    "\n",
    "print(len(filtered_gdf))\n",
    "\n",
    "filtered_gdf.to_csv('/Users/olivereielson/Desktop/test.csv')\n",
    "print(filtered_gdf['VesselName'].value_counts())\n",
    "# Plot the world map\n",
    "#world.plot()\n",
    "\n",
    "# Plot the filtered data points\n",
    "#filtered_gdf.plot(marker='o', color='red', markersize=5, ax=plt.gca())\n",
    "\n",
    "#plt.show()\n"
   ],
   "metadata": {
    "collapsed": false,
    "ExecuteTime": {
     "end_time": "2023-11-23T01:36:09.371018Z",
     "start_time": "2023-11-23T01:35:57.353643Z"
    }
   },
   "id": "902b701a885a8aee"
  },
  {
   "cell_type": "code",
   "execution_count": 78,
   "outputs": [
    {
     "name": "stdout",
     "output_type": "stream",
     "text": [
      "Number of unique values in the column: 8\n",
      "VesselName\n",
      "PHILOTIMO/SPORT FISH    462\n",
      "SPARHAWK                339\n",
      "INTERCEPTOR             321\n",
      "KAREN ANN               156\n",
      "DAMARISCOTTA            152\n",
      "RIGGER                  112\n",
      "REEL TRAFFIC             18\n",
      "BLUE SKIES                4\n",
      "Name: count, dtype: int64\n",
      "                MMSI         BaseDateTime       LAT       LON  SOG    COG   \n",
      "15367    338347142.0  2020-07-18T00:02:43  42.24202 -70.78692  0.0  360.0  \\\n",
      "20643    338251882.0  2020-07-18T00:02:12  41.45927 -70.55839  0.1   48.9   \n",
      "35569    338251882.0  2020-07-18T00:05:12  41.45927 -70.55838  0.0   48.9   \n",
      "70846    368128140.0  2020-07-18T00:11:16  41.63748 -70.92051  0.0  360.0   \n",
      "75033    338251882.0  2020-07-18T00:11:10  41.45924 -70.55840  0.0   48.9   \n",
      "...              ...                  ...       ...       ...  ...    ...   \n",
      "9024802  368128140.0  2020-07-18T22:41:12  41.63750 -70.92048  0.0  360.0   \n",
      "9030400  368128140.0  2020-07-18T22:47:14  41.63748 -70.92052  0.0  360.0   \n",
      "9062899  338251882.0  2020-07-18T23:29:10  41.63582 -70.35242  0.0  301.7   \n",
      "9068579  368128140.0  2020-07-18T23:35:15  41.63747 -70.92048  0.0  360.0   \n",
      "9068590  338347142.0  2020-07-18T23:35:43  42.24208 -70.78701  0.0  360.0   \n",
      "\n",
      "         Heading            VesselName         IMO CallSign  VesselType   \n",
      "15367      511.0  PHILOTIMO/SPORT FISH  IMO0000000  PHILOTI        30.0  \\\n",
      "20643      331.0              SPARHAWK  IMO0000000      NaN        30.0   \n",
      "35569      332.0              SPARHAWK  IMO0000000      NaN        30.0   \n",
      "70846      511.0           INTERCEPTOR  IMO0000000      NaN        30.0   \n",
      "75033      270.0              SPARHAWK  IMO0000000      NaN        30.0   \n",
      "...          ...                   ...         ...      ...         ...   \n",
      "9024802    511.0           INTERCEPTOR  IMO0000000      NaN        30.0   \n",
      "9030400    511.0           INTERCEPTOR  IMO0000000      NaN        30.0   \n",
      "9062899    258.0              SPARHAWK  IMO0000000      NaN        30.0   \n",
      "9068579    511.0           INTERCEPTOR  IMO0000000      NaN        30.0   \n",
      "9068590    511.0  PHILOTIMO/SPORT FISH  IMO0000000  PHILOTI        30.0   \n",
      "\n",
      "         Status  Length  Width  Draft  Cargo TransceiverClass   \n",
      "15367       NaN     0.0    0.0    NaN    NaN                B  \\\n",
      "20643       NaN     0.0    0.0    NaN    NaN                B   \n",
      "35569       NaN     0.0    0.0    NaN    NaN                B   \n",
      "70846       NaN     0.0    0.0    NaN    NaN                B   \n",
      "75033       NaN     0.0    0.0    NaN    NaN                B   \n",
      "...         ...     ...    ...    ...    ...              ...   \n",
      "9024802     NaN     0.0    0.0    NaN    NaN                B   \n",
      "9030400     NaN     0.0    0.0    NaN    NaN                B   \n",
      "9062899     NaN     0.0    0.0    NaN    NaN                B   \n",
      "9068579     NaN     0.0    0.0    NaN    NaN                B   \n",
      "9068590     NaN     0.0    0.0    NaN    NaN                B   \n",
      "\n",
      "                           geometry  \n",
      "15367    POINT (-70.78692 42.24202)  \n",
      "20643    POINT (-70.55839 41.45927)  \n",
      "35569    POINT (-70.55838 41.45927)  \n",
      "70846    POINT (-70.92051 41.63748)  \n",
      "75033    POINT (-70.55840 41.45924)  \n",
      "...                             ...  \n",
      "9024802  POINT (-70.92048 41.63750)  \n",
      "9030400  POINT (-70.92052 41.63748)  \n",
      "9062899  POINT (-70.35242 41.63582)  \n",
      "9068579  POINT (-70.92048 41.63747)  \n",
      "9068590  POINT (-70.78701 42.24208)  \n",
      "\n",
      "[1564 rows x 18 columns]\n"
     ]
    }
   ],
   "source": [
    "unique_count = filtered_gdf['MMSI'].nunique()\n",
    "print(\"Number of unique values in the column:\", unique_count)\n",
    "\n",
    "value_counts = filtered_gdf['VesselName'].value_counts()\n",
    "print(value_counts)\n",
    "\n",
    "print(filtered_gdf)"
   ],
   "metadata": {
    "collapsed": false,
    "ExecuteTime": {
     "end_time": "2023-11-10T18:54:47.683063Z",
     "start_time": "2023-11-10T18:54:47.673527Z"
    }
   },
   "id": "1ba8e4a543fad9e2"
  },
  {
   "cell_type": "code",
   "execution_count": 4,
   "outputs": [
    {
     "ename": "ValueError",
     "evalue": "Assigning CRS to a GeoDataFrame without a geometry column is not supported. Supply geometry using the 'geometry=' keyword argument, or by providing a DataFrame with column name 'geometry'",
     "output_type": "error",
     "traceback": [
      "\u001B[0;31m---------------------------------------------------------------------------\u001B[0m",
      "\u001B[0;31mValueError\u001B[0m                                Traceback (most recent call last)",
      "Cell \u001B[0;32mIn[4], line 9\u001B[0m\n\u001B[1;32m      6\u001B[0m \u001B[38;5;66;03m# Create a GeoDataFrame with some example data\u001B[39;00m\n\u001B[1;32m      7\u001B[0m data \u001B[38;5;241m=\u001B[39m {\u001B[38;5;124m'\u001B[39m\u001B[38;5;124mname\u001B[39m\u001B[38;5;124m'\u001B[39m: df[\u001B[38;5;124m'\u001B[39m\u001B[38;5;124mMMSI\u001B[39m\u001B[38;5;124m'\u001B[39m],\n\u001B[1;32m      8\u001B[0m         \u001B[38;5;124m'\u001B[39m\u001B[38;5;124mgeometry\u001B[39m\u001B[38;5;124m'\u001B[39m: df[\u001B[38;5;124m'\u001B[39m\u001B[38;5;124mgeometry\u001B[39m\u001B[38;5;124m'\u001B[39m]}\n\u001B[0;32m----> 9\u001B[0m gdf \u001B[38;5;241m=\u001B[39m \u001B[43mgpd\u001B[49m\u001B[38;5;241;43m.\u001B[39;49m\u001B[43mGeoDataFrame\u001B[49m\u001B[43m(\u001B[49m\u001B[43mdata\u001B[49m\u001B[43m,\u001B[49m\u001B[43m \u001B[49m\u001B[43mcrs\u001B[49m\u001B[38;5;241;43m=\u001B[39;49m\u001B[38;5;124;43m'\u001B[39;49m\u001B[38;5;124;43mEPSG:4326\u001B[39;49m\u001B[38;5;124;43m'\u001B[39;49m\u001B[43m)\u001B[49m\n\u001B[1;32m     11\u001B[0m \u001B[38;5;66;03m# Create a folium map centered around the mean coordinates of the GeoDataFrame\u001B[39;00m\n\u001B[1;32m     12\u001B[0m map_center \u001B[38;5;241m=\u001B[39m [\u001B[38;5;241m41.05695\u001B[39m, \u001B[38;5;241m-\u001B[39m\u001B[38;5;241m71.89994\u001B[39m]\n",
      "File \u001B[0;32m~/miniconda3/envs/CS137/lib/python3.9/site-packages/geopandas/geodataframe.py:195\u001B[0m, in \u001B[0;36mGeoDataFrame.__init__\u001B[0;34m(self, data, geometry, crs, *args, **kwargs)\u001B[0m\n\u001B[1;32m    192\u001B[0m     \u001B[38;5;28mself\u001B[39m\u001B[38;5;241m.\u001B[39mset_geometry(geometry, inplace\u001B[38;5;241m=\u001B[39m\u001B[38;5;28;01mTrue\u001B[39;00m, crs\u001B[38;5;241m=\u001B[39mcrs)\n\u001B[1;32m    194\u001B[0m \u001B[38;5;28;01mif\u001B[39;00m geometry \u001B[38;5;129;01mis\u001B[39;00m \u001B[38;5;28;01mNone\u001B[39;00m \u001B[38;5;129;01mand\u001B[39;00m crs:\n\u001B[0;32m--> 195\u001B[0m     \u001B[38;5;28;01mraise\u001B[39;00m \u001B[38;5;167;01mValueError\u001B[39;00m(\n\u001B[1;32m    196\u001B[0m         \u001B[38;5;124m\"\u001B[39m\u001B[38;5;124mAssigning CRS to a GeoDataFrame without a geometry column is not \u001B[39m\u001B[38;5;124m\"\u001B[39m\n\u001B[1;32m    197\u001B[0m         \u001B[38;5;124m\"\u001B[39m\u001B[38;5;124msupported. Supply geometry using the \u001B[39m\u001B[38;5;124m'\u001B[39m\u001B[38;5;124mgeometry=\u001B[39m\u001B[38;5;124m'\u001B[39m\u001B[38;5;124m keyword argument, \u001B[39m\u001B[38;5;124m\"\u001B[39m\n\u001B[1;32m    198\u001B[0m         \u001B[38;5;124m\"\u001B[39m\u001B[38;5;124mor by providing a DataFrame with column name \u001B[39m\u001B[38;5;124m'\u001B[39m\u001B[38;5;124mgeometry\u001B[39m\u001B[38;5;124m'\u001B[39m\u001B[38;5;124m\"\u001B[39m,\n\u001B[1;32m    199\u001B[0m     )\n",
      "\u001B[0;31mValueError\u001B[0m: Assigning CRS to a GeoDataFrame without a geometry column is not supported. Supply geometry using the 'geometry=' keyword argument, or by providing a DataFrame with column name 'geometry'"
     ]
    }
   ],
   "source": [
    "import folium\n",
    "import geopandas as gpd\n",
    "import pandas as pd\n",
    "\n",
    "df = pd.read_csv(\"all.csv\")\n",
    "# Create a GeoDataFrame with some example data\n",
    "data = {'name': df['MMSI'],\n",
    "        'geometry': df['geometry']}\n",
    "gdf = gpd.GeoDataFrame(data, crs='EPSG:4326')\n",
    "\n",
    "# Create a folium map centered around the mean coordinates of the GeoDataFrame\n",
    "map_center = [41.05695, -71.89994]\n",
    "mymap = folium.Map(location=map_center, zoom_start=20)\n",
    "\n",
    "# Add GeoPandas GeoDataFrame to the map\n",
    "folium.GeoJson(gdf).add_to(mymap)\n",
    "\n",
    "# Display the map\n",
    "mymap.save('my_map.html')\n"
   ],
   "metadata": {
    "collapsed": false,
    "ExecuteTime": {
     "end_time": "2023-11-23T01:49:09.354615Z",
     "start_time": "2023-11-23T01:49:08.481676Z"
    }
   },
   "id": "66219dae35451ada"
  },
  {
   "cell_type": "code",
   "execution_count": 11,
   "outputs": [
    {
     "ename": "NameError",
     "evalue": "name 'filtered_gdf' is not defined",
     "output_type": "error",
     "traceback": [
      "\u001B[0;31m---------------------------------------------------------------------------\u001B[0m",
      "\u001B[0;31mNameError\u001B[0m                                 Traceback (most recent call last)",
      "Cell \u001B[0;32mIn[11], line 21\u001B[0m\n\u001B[1;32m     19\u001B[0m \u001B[38;5;66;03m# Iterate through the list of dot coordinates and add dots to the image\u001B[39;00m\n\u001B[1;32m     20\u001B[0m dot_size\u001B[38;5;241m=\u001B[39m\u001B[38;5;241m300\u001B[39m\n\u001B[0;32m---> 21\u001B[0m \u001B[38;5;28;01mfor\u001B[39;00m _, row \u001B[38;5;129;01min\u001B[39;00m \u001B[43mfiltered_gdf\u001B[49m\u001B[38;5;241m.\u001B[39miterrows():\n\u001B[1;32m     22\u001B[0m             x, y \u001B[38;5;241m=\u001B[39m row[\u001B[38;5;124m'\u001B[39m\u001B[38;5;124mLAT\u001B[39m\u001B[38;5;124m'\u001B[39m], row[\u001B[38;5;124m'\u001B[39m\u001B[38;5;124mLON\u001B[39m\u001B[38;5;124m'\u001B[39m]\n\u001B[1;32m     23\u001B[0m             \u001B[38;5;66;03m#y=y*-1\u001B[39;00m\n",
      "\u001B[0;31mNameError\u001B[0m: name 'filtered_gdf' is not defined"
     ]
    }
   ],
   "source": [
    "from PIL import Image, ImageDraw\n",
    "\n",
    "Image.MAX_IMAGE_PIXELS = None\n",
    "\n",
    "w_pixel_to_degree = 0.01 / 560\n",
    "w_start_degree = 71.29\n",
    "\n",
    "h_pixel_to_degree = 0.01 / 730\n",
    "h_start_degree = 41.45 - (3930 * h_pixel_to_degree)\n",
    "\n",
    "with Image.open(\"Chart_Data/newport.jpg\") as img:\n",
    "    draw = ImageDraw.Draw(img)\n",
    "\n",
    "    # Set the dot color (in this case, red)\n",
    "    dot_color = (0, 255, 0)\n",
    "\n",
    "    # Iterate through the list of dot coordinates and add dots to the image\n",
    "    dot_size = 300\n",
    "    for _, row in filtered_gdf.iterrows():\n",
    "        x, y = row['LAT'], row['LON']\n",
    "        #y=y*-1\n",
    "\n",
    "        x = (x - w_start_degree) / (w_pixel_to_degree * 100)\n",
    "        x = abs(13593 + x)\n",
    "        y = (y - h_start_degree) / (h_pixel_to_degree * 100)\n",
    "        y = abs(19037 + y)\n",
    "        print(x, y)\n",
    "\n",
    "        if 0 <= x < img.width and 0 <= y < img.height:\n",
    "            draw.ellipse((x - dot_size, y - dot_size, x + dot_size, y + dot_size), fill=dot_color)\n",
    "\n",
    "    # Save the modified image\n",
    "    img.save(\"Chart_Data/newport_dots1.jpg\")"
   ],
   "metadata": {
    "collapsed": false,
    "ExecuteTime": {
     "end_time": "2023-11-10T20:36:18.055Z",
     "start_time": "2023-11-10T20:36:16.114512Z"
    }
   },
   "id": "f76acd4588570e5c"
  },
  {
   "cell_type": "code",
   "execution_count": null,
   "outputs": [],
   "source": [],
   "metadata": {
    "collapsed": false
   },
   "id": "40fadd5d5a465d7b"
  },
  {
   "cell_type": "code",
   "execution_count": 1,
   "outputs": [],
   "source": [
    "def delete_all_images_in_folder(folder_path):\n",
    "    try:\n",
    "        for filename in os.listdir(folder_path):\n",
    "            if filename.lower().endswith(('.jpg', '.jpeg', '.png', '.gif', '.bmp', '.tiff', '.webp')):\n",
    "                file_path = os.path.join(folder_path, filename)\n",
    "                os.remove(file_path)\n",
    "                print(f\"Deleted: {file_path}\")\n",
    "        print(\"All images in the folder have been deleted.\")\n",
    "    except Exception as e:\n",
    "        print(f\"An error occurred: {str(e)}\")"
   ],
   "metadata": {
    "collapsed": false,
    "ExecuteTime": {
     "end_time": "2023-11-12T18:57:02.109785Z",
     "start_time": "2023-11-12T18:57:02.099150Z"
    }
   },
   "id": "15cf518758c96221"
  },
  {
   "cell_type": "markdown",
   "source": [
    "## Generate Newport grid"
   ],
   "metadata": {
    "collapsed": false
   },
   "id": "bf46a42306810fd"
  },
  {
   "cell_type": "code",
   "execution_count": null,
   "outputs": [],
   "source": [],
   "metadata": {
    "collapsed": false
   },
   "id": "35429ffa21d2a4d7"
  },
  {
   "cell_type": "code",
   "execution_count": null,
   "outputs": [],
   "source": [],
   "metadata": {
    "collapsed": false
   },
   "id": "64533c70f436d856"
  },
  {
   "cell_type": "code",
   "execution_count": 8,
   "outputs": [
    {
     "name": "stdout",
     "output_type": "stream",
     "text": [
      "41.251667\n",
      "Deleted: grids/subimage_72.13181481818182_41.138342465753425.png\n",
      "Deleted: grids/subimage_71.98029663636363_41.024184931506845.png\n",
      "Deleted: grids/subimage_72.283333_41.2525.png\n",
      "Deleted: grids/subimage_71.82877845454546_41.024184931506845.png\n",
      "Deleted: grids/subimage_71.98029663636363_41.138342465753425.png\n",
      "Deleted: grids/subimage_71.82877845454546_41.138342465753425.png\n",
      "Deleted: grids/subimage_72.13181481818182_41.024184931506845.png\n",
      "Deleted: grids/subimage_71.98029663636363_41.2525.png\n",
      "Deleted: grids/subimage_71.82877845454546_41.2525.png\n",
      "Deleted: grids/subimage_72.283333_41.024184931506845.png\n",
      "Deleted: grids/subimage_72.13181481818182_41.2525.png\n",
      "Deleted: grids/subimage_72.283333_41.138342465753425.png\n",
      "All images in the folder have been deleted.\n",
      "subimage_72.283333_41.251667.png\n",
      "subimage_72.283333_41.137509465753425.png\n",
      "subimage_72.283333_41.023351931506845.png\n",
      "subimage_72.13181481818182_41.251667.png\n",
      "subimage_72.13181481818182_41.137509465753425.png\n",
      "subimage_72.13181481818182_41.023351931506845.png\n",
      "subimage_71.98029663636363_41.251667.png\n",
      "subimage_71.98029663636363_41.137509465753425.png\n",
      "subimage_71.98029663636363_41.023351931506845.png\n",
      "subimage_71.82877845454546_41.251667.png\n",
      "subimage_71.82877845454546_41.137509465753425.png\n",
      "subimage_71.82877845454546_41.023351931506845.png\n"
     ]
    }
   ],
   "source": [
    "from PIL import Image\n",
    "import os\n",
    "\n",
    "#.05 degrees = 2720 pixels\n",
    "\n",
    "w_pixel_to_degree = 0.016667 / 550\n",
    "\n",
    "h_pixel_to_degree = 0.016667 / 730\n",
    "w_start_degree = 72.283333\n",
    "h_start_degree = 41.251667\n",
    "#h_start_degree = 41.016667 + (3980 * h_pixel_to_degree)\n",
    "print(h_start_degree)\n",
    "\n",
    "height = 5000\n",
    "width = 5000\n",
    "\n",
    "input_image_path = \"/Users/olivereielson/Desktop/13209-11-1995 copy.jpg\"\n",
    "output_folder = \"grids\"\n",
    "\n",
    "Image.MAX_IMAGE_PIXELS = None\n",
    "\n",
    "delete_all_images_in_folder(output_folder)\n",
    "# Open the input image using Pillow\n",
    "with Image.open(input_image_path) as img:\n",
    "    # Ensure the output folder exists\n",
    "    os.makedirs(output_folder, exist_ok=True)\n",
    "\n",
    "    # Get the size of the input image\n",
    "    img_width, img_height = img.size\n",
    "\n",
    "    # Loop through the image and split it into 150x150 sub-images\n",
    "    for x in range(0, img_width, width):\n",
    "        for y in range(0, img_height, height):\n",
    "            left = x\n",
    "            upper = y\n",
    "            right = min(x + width, img_width)\n",
    "            lower = min(y + height, img_height)\n",
    "\n",
    "            # Crop the sub-image\n",
    "            sub_image = img.crop((left, upper, right, lower))\n",
    "\n",
    "            # Create a filename for the sub-image based on its position\n",
    "\n",
    "            x_name = (w_start_degree - (x * w_pixel_to_degree))\n",
    "            y_name = (h_start_degree - (y * h_pixel_to_degree))\n",
    "\n",
    "            filename = f\"subimage_{x_name}_{y_name}.png\"\n",
    "            print(filename)\n",
    "\n",
    "            # Save the sub-image to the output folder\n",
    "            sub_image.save(os.path.join(output_folder, filename))\n"
   ],
   "metadata": {
    "collapsed": false,
    "ExecuteTime": {
     "end_time": "2023-11-12T19:58:33.461894Z",
     "start_time": "2023-11-12T19:57:47.277439Z"
    }
   },
   "id": "aa20e5c8e764e68c"
  },
  {
   "cell_type": "code",
   "execution_count": null,
   "outputs": [],
   "source": [],
   "metadata": {
    "collapsed": false
   },
   "id": "eaa76ec271e50f0"
  }
 ],
 "metadata": {
  "kernelspec": {
   "display_name": "Python 3",
   "language": "python",
   "name": "python3"
  },
  "language_info": {
   "codemirror_mode": {
    "name": "ipython",
    "version": 2
   },
   "file_extension": ".py",
   "mimetype": "text/x-python",
   "name": "python",
   "nbconvert_exporter": "python",
   "pygments_lexer": "ipython2",
   "version": "2.7.6"
  }
 },
 "nbformat": 4,
 "nbformat_minor": 5
}
